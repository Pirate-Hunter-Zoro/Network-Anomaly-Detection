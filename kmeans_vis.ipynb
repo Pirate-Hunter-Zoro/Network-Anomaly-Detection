{
 "cells": [
  {
   "cell_type": "markdown",
   "metadata": {},
   "source": [
    "# This entire notebook is the work of Alex Howe!"
   ]
  },
  {
   "cell_type": "code",
   "execution_count": 1,
   "metadata": {},
   "outputs": [],
   "source": [
    "import pandas as pd\n",
    "import numpy as np\n",
    "from scapy.all import rdpcap\n",
    "from collections import defaultdict\n",
    "from sklearn.cluster import KMeans, DBSCAN\n",
    "from sklearn.metrics import silhouette_score, classification_report\n",
    "from concurrent.futures import ProcessPoolExecutor\n",
    "from sklearn.exceptions import NotFittedError\n"
   ]
  },
  {
   "cell_type": "code",
   "execution_count": 2,
   "metadata": {},
   "outputs": [],
   "source": [
    "def load_attack_labels(label_file):\n",
    "    df = pd.read_csv(label_file, sep=';', header=None, names=['packet_index', 'label'])\n",
    "    return df['label'].values  # Only return the label column as an array\n",
    "# Step 1: Parse the pcap file and extract packet timestamps and conversations\n",
    "def parse_pcap(file):\n",
    "    packets = rdpcap(file)\n",
    "    conversations = defaultdict(list)\n",
    "    packet_indices = defaultdict(list)  # To store global indices of packets in each conversation\n",
    "\n",
    "    if len(packets) == 0:\n",
    "        return conversations, packet_indices, len(packets)\n",
    "\n",
    "    first_packet_time = float(packets[0].time)\n",
    "\n",
    "    for i, packet in enumerate(packets):\n",
    "        if packet.haslayer('Ethernet') and packet.haslayer('IP'):\n",
    "            eth_src = packet.src\n",
    "            eth_dst = packet.dst\n",
    "            relative_timestamp = float(packet.time) - first_packet_time\n",
    "            conversation = tuple(sorted([eth_src, eth_dst]))\n",
    "            \n",
    "            # Store relative timestamp and global index for each conversation\n",
    "            conversations[conversation].append(relative_timestamp)\n",
    "            packet_indices[conversation].append(i)  # Global packet index in the entire file\n",
    "\n",
    "    return conversations, packet_indices, len(packets)  # Return total number of packets\n"
   ]
  },
  {
   "cell_type": "code",
   "execution_count": 3,
   "metadata": {},
   "outputs": [],
   "source": [
    "def parse_pcap_v2(file):\n",
    "    packets = rdpcap(file)\n",
    "    conversations = defaultdict(list)\n",
    "    packet_indices = defaultdict(list)  # To store global indices of packets in each conversation\n",
    "    prev_packet_times = defaultdict(list)\n",
    "\n",
    "\n",
    "    if len(packets) == 0:\n",
    "        return conversations, packet_indices, len(packets)\n",
    "\n",
    "    # first_packet_time = float(packets[0].time)\n",
    "\n",
    "    for i, packet in enumerate(packets):\n",
    "        if packet.haslayer('Ethernet') and packet.haslayer('IP'):\n",
    "            eth_src = packet.src\n",
    "            eth_dst = packet.dst            \n",
    "            conversation = tuple(sorted([eth_src, eth_dst]))\n",
    "            if conversation in prev_packet_times:\n",
    "                relative_timestamp = float(packet.time) - prev_packet_times[conversation]\n",
    "                conversations[conversation].append(relative_timestamp)\n",
    "            prev_packet_times[conversation] = float(packet.time)\n",
    "            # Store relative timestamp and global index for each conversation\n",
    "            packet_indices[conversation].append(i)  # Global packet index in the entire file\n",
    "\n",
    "    return conversations, packet_indices, len(packets)  # Return total number of packets"
   ]
  },
  {
   "cell_type": "code",
   "execution_count": 3,
   "metadata": {},
   "outputs": [],
   "source": [
    "# Function to find optimal k for clustering using K-Means\n",
    "def find_optimal_k(timestamps, max_k=10):\n",
    "    timestamps = timestamps.reshape(-1, 1)\n",
    "    best_k, best_score = 2, -1\n",
    "\n",
    "    # Handle cases where timestamps have too few data points\n",
    "    if len(timestamps) < 2:\n",
    "        print(f\"Not enough data points: {len(timestamps)} for KMeans clustering.\")\n",
    "        return None  # Return None to indicate no clustering is possible\n",
    "\n",
    "    for k in range(2, min(max_k + 1, len(timestamps))):  # Ensure k does not exceed the number of data points\n",
    "        try:\n",
    "            kmeans = KMeans(n_clusters=k, random_state=42).fit(timestamps)\n",
    "\n",
    "            # Check if KMeans successfully clustered more than one label\n",
    "            if len(set(kmeans.labels_)) > 1:\n",
    "                score = silhouette_score(timestamps, kmeans.labels_)\n",
    "                if score > best_score:\n",
    "                    best_score, best_k = score, k\n",
    "\n",
    "        except ValueError as e:\n",
    "            print(f\"Error in KMeans with k={k}: {e}\")\n",
    "\n",
    "    return best_k if best_score != -1 else None  # Return None if no valid k is found\n"
   ]
  },
  {
   "cell_type": "code",
   "execution_count": 5,
   "metadata": {},
   "outputs": [],
   "source": [
    "# Step 1: Parse normal data and train KMeans for each conversation\n",
    "def process_conversation(normal_conversations, max_k=10):\n",
    "    conversation_models = {}\n",
    "\n",
    "    for conversation, timestamps in normal_conversations.items():\n",
    "        timestamps = np.array(timestamps)\n",
    "\n",
    "        # Determine optimal K for KMeans\n",
    "        best_k = find_optimal_k(timestamps, max_k=max_k)\n",
    "\n",
    "        if best_k:\n",
    "            # print(f\"Optimal k for conversation {conversation}: {best_k}\")\n",
    "            try:\n",
    "                kmeans_model = KMeans(n_clusters=best_k, random_state=42).fit(timestamps.reshape(-1, 1))\n",
    "                conversation_models[conversation] = kmeans_model  # Store the model for future use\n",
    "            except ValueError as e:\n",
    "                print(f\"Error training KMeans for conversation {conversation}: {e}\")\n",
    "        else:\n",
    "            print(f\"Skipping conversation {conversation} due to insufficient data.\")\n",
    "\n",
    "    return conversation_models\n",
    "\n"
   ]
  },
  {
   "cell_type": "code",
   "execution_count": 3,
   "metadata": {},
   "outputs": [],
   "source": [
    "#load up some files for visualization\n",
    "\n",
    "normal_pcap_file = \"data\\\\lemay\\\\Modbus_polling_only_6RTU.pcap\"\n",
    "attack_pcap_files = [\n",
    "    \"data\\\\lemay\\\\characterization_modbus_6RTU_with_operate.pcap\",\n",
    "    \"data\\\\lemay\\\\CnC_uploading_exe_modbus_6RTU_with_operate.pcap\",\n",
    "    \"data\\\\lemay\\\\exploit_ms08_netapi_modbus_6RTU_with_operate.pcap\",\n",
    "    \"data\\\\lemay\\\\moving_two_files_modbus_6RTU.pcap\",\n",
    "    \"data\\\\lemay\\\\send_a_fake_command_modbus_6RTU_with_operate.pcap\"\n",
    "]\n",
    "\n",
    "# Corresponding label files\n",
    "attack_labels = [\n",
    "    \"data\\\\lemay\\\\characterization_fixed.csv\",\n",
    "    \"data\\\\lemay\\\\CnC_uploading_exe_modbus_6RTU_with_operate_labeled.csv\",\n",
    "    \"data\\\\lemay\\\\exploit_fixed.csv\",\n",
    "    \"data\\\\lemay\\\\moving_two_files_modbus_6RTU_labeled.csv\",\n",
    "    \"data\\\\lemay\\\\sfc_fixed.csv\"\n",
    "]\n"
   ]
  },
  {
   "cell_type": "code",
   "execution_count": 24,
   "metadata": {},
   "outputs": [],
   "source": [
    "import matplotlib.pyplot as plt\n",
    "normals, normals_idx, _ = parse_pcap_v2(normal_pcap_file)\n",
    "a = list(normals.keys())[0]\n",
    "normal_1 = np.array(normals[a])"
   ]
  },
  {
   "cell_type": "code",
   "execution_count": 25,
   "metadata": {},
   "outputs": [
    {
     "data": {
      "text/plain": [
       "dict_keys([('00:0c:29:58:97:2a', '00:0c:29:ee:b7:84'), ('00:0c:29:3c:11:3f', '00:0c:29:ee:b7:84'), ('00:0c:29:ee:b7:84', '00:0c:29:f9:a8:75'), ('00:0c:29:dc:42:e5', '00:0c:29:ee:b7:84'), ('00:0c:29:70:aa:b7', '00:0c:29:ee:b7:84'), ('00:0c:29:6e:ba:5e', '00:0c:29:ee:b7:84'), ('00:50:56:c0:00:08', 'ff:ff:ff:ff:ff:ff'), ('00:0c:29:ee:b7:84', 'ff:ff:ff:ff:ff:ff'), ('00:0c:29:f9:a8:75', 'ff:ff:ff:ff:ff:ff'), ('00:0c:29:6e:ba:5e', 'ff:ff:ff:ff:ff:ff'), ('00:50:56:c0:00:08', '01:00:5e:00:00:16'), ('00:50:56:c0:00:08', '01:00:5e:00:00:fc')])"
      ]
     },
     "execution_count": 25,
     "metadata": {},
     "output_type": "execute_result"
    }
   ],
   "source": [
    "normals.keys()"
   ]
  },
  {
   "cell_type": "code",
   "execution_count": 15,
   "metadata": {},
   "outputs": [
    {
     "data": {
      "text/plain": [
       "<matplotlib.collections.PathCollection at 0x223e9aeabc0>"
      ]
     },
     "execution_count": 15,
     "metadata": {},
     "output_type": "execute_result"
    },
    {
     "data": {
      "image/png": "[encoded data removed]",
      "text/plain": [
       "<Figure size 640x480 with 1 Axes>"
      ]
     },
     "metadata": {},
     "output_type": "display_data"
    }
   ],
   "source": [
    "plt.scatter(normal_1, normal_1)"
   ]
  },
  {
   "cell_type": "code",
   "execution_count": 26,
   "metadata": {},
   "outputs": [],
   "source": [
    "import random"
   ]
  },
  {
   "cell_type": "code",
   "execution_count": 28,
   "metadata": {},
   "outputs": [],
   "source": [
    "random_timestamps = [random.randint(4,5) for i in range(0,100)]"
   ]
  },
  {
   "cell_type": "code",
   "execution_count": null,
   "metadata": {},
   "outputs": [],
   "source": []
  },
  {
   "cell_type": "code",
   "execution_count": 16,
   "metadata": {},
   "outputs": [
    {
     "name": "stderr",
     "output_type": "stream",
     "text": [
      "c:\\Users\\waffl\\anaconda3\\envs\\funnygraph\\lib\\site-packages\\sklearn\\cluster\\_kmeans.py:1412: FutureWarning: The default value of `n_init` will change from 10 to 'auto' in 1.4. Set the value of `n_init` explicitly to suppress the warning\n",
      "  super()._check_params_vs_input(X, default_n_init=10)\n",
      "c:\\Users\\waffl\\anaconda3\\envs\\funnygraph\\lib\\site-packages\\sklearn\\cluster\\_kmeans.py:1436: UserWarning: KMeans is known to have a memory leak on Windows with MKL, when there are less chunks than available threads. You can avoid it by setting the environment variable OMP_NUM_THREADS=3.\n",
      "  warnings.warn(\n",
      "c:\\Users\\waffl\\anaconda3\\envs\\funnygraph\\lib\\site-packages\\sklearn\\cluster\\_kmeans.py:1412: FutureWarning: The default value of `n_init` will change from 10 to 'auto' in 1.4. Set the value of `n_init` explicitly to suppress the warning\n",
      "  super()._check_params_vs_input(X, default_n_init=10)\n",
      "c:\\Users\\waffl\\anaconda3\\envs\\funnygraph\\lib\\site-packages\\sklearn\\cluster\\_kmeans.py:1436: UserWarning: KMeans is known to have a memory leak on Windows with MKL, when there are less chunks than available threads. You can avoid it by setting the environment variable OMP_NUM_THREADS=3.\n",
      "  warnings.warn(\n",
      "c:\\Users\\waffl\\anaconda3\\envs\\funnygraph\\lib\\site-packages\\sklearn\\cluster\\_kmeans.py:1412: FutureWarning: The default value of `n_init` will change from 10 to 'auto' in 1.4. Set the value of `n_init` explicitly to suppress the warning\n",
      "  super()._check_params_vs_input(X, default_n_init=10)\n",
      "c:\\Users\\waffl\\anaconda3\\envs\\funnygraph\\lib\\site-packages\\sklearn\\cluster\\_kmeans.py:1436: UserWarning: KMeans is known to have a memory leak on Windows with MKL, when there are less chunks than available threads. You can avoid it by setting the environment variable OMP_NUM_THREADS=3.\n",
      "  warnings.warn(\n",
      "c:\\Users\\waffl\\anaconda3\\envs\\funnygraph\\lib\\site-packages\\sklearn\\cluster\\_kmeans.py:1412: FutureWarning: The default value of `n_init` will change from 10 to 'auto' in 1.4. Set the value of `n_init` explicitly to suppress the warning\n",
      "  super()._check_params_vs_input(X, default_n_init=10)\n",
      "c:\\Users\\waffl\\anaconda3\\envs\\funnygraph\\lib\\site-packages\\sklearn\\cluster\\_kmeans.py:1436: UserWarning: KMeans is known to have a memory leak on Windows with MKL, when there are less chunks than available threads. You can avoid it by setting the environment variable OMP_NUM_THREADS=3.\n",
      "  warnings.warn(\n"
     ]
    }
   ],
   "source": [
    "sse = {}\n",
    "for k in range(1,5):\n",
    "    kmeans = KMeans(n_clusters=k, random_state=42).fit(normal_1.reshape(-1,1))\n",
    "    #record sum of distances to centroids\n",
    "    sse[k] = kmeans.inertia_\n"
   ]
  },
  {
   "cell_type": "code",
   "execution_count": 17,
   "metadata": {},
   "outputs": [
    {
     "data": {
      "text/plain": [
       "Text(0, 0.5, 'Avg Distance To Centroid')"
      ]
     },
     "execution_count": 17,
     "metadata": {},
     "output_type": "execute_result"
    },
    {
     "data": {
      "image/png": "[encoded data removed]",
      "text/plain": [
       "<Figure size 640x480 with 1 Axes>"
      ]
     },
     "metadata": {},
     "output_type": "display_data"
    }
   ],
   "source": [
    "plt.plot(list(sse.keys()), list(sse.values()))\n",
    "plt.xlabel(\"K\")\n",
    "plt.ylabel(\"Avg Distance To Centroid\")"
   ]
  },
  {
   "cell_type": "code",
   "execution_count": 18,
   "metadata": {},
   "outputs": [
    {
     "name": "stderr",
     "output_type": "stream",
     "text": [
      "c:\\Users\\waffl\\anaconda3\\envs\\funnygraph\\lib\\site-packages\\sklearn\\cluster\\_kmeans.py:1412: FutureWarning: The default value of `n_init` will change from 10 to 'auto' in 1.4. Set the value of `n_init` explicitly to suppress the warning\n",
      "  super()._check_params_vs_input(X, default_n_init=10)\n",
      "c:\\Users\\waffl\\anaconda3\\envs\\funnygraph\\lib\\site-packages\\sklearn\\cluster\\_kmeans.py:1436: UserWarning: KMeans is known to have a memory leak on Windows with MKL, when there are less chunks than available threads. You can avoid it by setting the environment variable OMP_NUM_THREADS=3.\n",
      "  warnings.warn(\n"
     ]
    }
   ],
   "source": [
    "optimal_kmeans = KMeans(n_clusters=2, random_state=42).fit(normal_1.reshape(-1,1))\n"
   ]
  },
  {
   "cell_type": "code",
   "execution_count": 19,
   "metadata": {},
   "outputs": [],
   "source": [
    "vals = {0:[],1:[]}\n",
    "data = normal_1.reshape(-1,1)\n",
    "for i,l in enumerate(optimal_kmeans.labels_):\n",
    "    vals[l].append(data[i][0])"
   ]
  },
  {
   "cell_type": "code",
   "execution_count": 20,
   "metadata": {},
   "outputs": [
    {
     "name": "stdout",
     "output_type": "stream",
     "text": [
      "Cluster 0 0.0012504747280707726 | Std Dev 0.002707587495656659\n"
     ]
    }
   ],
   "source": [
    "avg_a = np.mean(vals[0])\n",
    "std_a = np.std(vals[0])\n",
    "print(f\"Cluster 0 {avg_a} | Std Dev {std_a}\")"
   ]
  },
  {
   "cell_type": "code",
   "execution_count": 21,
   "metadata": {},
   "outputs": [
    {
     "name": "stdout",
     "output_type": "stream",
     "text": [
      "Cluster 1 9.96685578948573 | Std Dev 0.00412891898569916\n"
     ]
    }
   ],
   "source": [
    "avg_a = np.mean(vals[1])\n",
    "std_a = np.std(vals[1])\n",
    "print(f\"Cluster 1 {avg_a} | Std Dev {std_a}\")"
   ]
  },
  {
   "cell_type": "code",
   "execution_count": null,
   "metadata": {},
   "outputs": [],
   "source": []
  },
  {
   "cell_type": "code",
   "execution_count": 89,
   "metadata": {},
   "outputs": [],
   "source": [
    "from sklearn.metrics import silhouette_score"
   ]
  },
  {
   "cell_type": "code",
   "execution_count": 91,
   "metadata": {},
   "outputs": [
    {
     "name": "stderr",
     "output_type": "stream",
     "text": [
      "c:\\Users\\waffl\\anaconda3\\envs\\funnygraph\\lib\\site-packages\\sklearn\\cluster\\_kmeans.py:1412: FutureWarning: The default value of `n_init` will change from 10 to 'auto' in 1.4. Set the value of `n_init` explicitly to suppress the warning\n",
      "  super()._check_params_vs_input(X, default_n_init=10)\n"
     ]
    },
    {
     "name": "stdout",
     "output_type": "stream",
     "text": [
      "k = 2 0.9996996215927391\n"
     ]
    },
    {
     "name": "stderr",
     "output_type": "stream",
     "text": [
      "c:\\Users\\waffl\\anaconda3\\envs\\funnygraph\\lib\\site-packages\\sklearn\\cluster\\_kmeans.py:1412: FutureWarning: The default value of `n_init` will change from 10 to 'auto' in 1.4. Set the value of `n_init` explicitly to suppress the warning\n",
      "  super()._check_params_vs_input(X, default_n_init=10)\n"
     ]
    },
    {
     "name": "stdout",
     "output_type": "stream",
     "text": [
      "k = 3 0.9898802465056588\n"
     ]
    },
    {
     "name": "stderr",
     "output_type": "stream",
     "text": [
      "c:\\Users\\waffl\\anaconda3\\envs\\funnygraph\\lib\\site-packages\\sklearn\\cluster\\_kmeans.py:1412: FutureWarning: The default value of `n_init` will change from 10 to 'auto' in 1.4. Set the value of `n_init` explicitly to suppress the warning\n",
      "  super()._check_params_vs_input(X, default_n_init=10)\n"
     ]
    },
    {
     "name": "stdout",
     "output_type": "stream",
     "text": [
      "k = 4 0.9607803306978673\n"
     ]
    },
    {
     "name": "stderr",
     "output_type": "stream",
     "text": [
      "c:\\Users\\waffl\\anaconda3\\envs\\funnygraph\\lib\\site-packages\\sklearn\\cluster\\_kmeans.py:1412: FutureWarning: The default value of `n_init` will change from 10 to 'auto' in 1.4. Set the value of `n_init` explicitly to suppress the warning\n",
      "  super()._check_params_vs_input(X, default_n_init=10)\n"
     ]
    },
    {
     "name": "stdout",
     "output_type": "stream",
     "text": [
      "k = 5 0.9548161243800738\n"
     ]
    }
   ],
   "source": [
    "for k in range(2,6):\n",
    "    kmeans = KMeans(n_clusters=k, random_state=42).fit(data)\n",
    "    clusters = kmeans.labels_\n",
    "    sc = silhouette_score(data, clusters, metric=\"euclidean\")\n",
    "    print(f\"k = {k} {sc}\")\n"
   ]
  },
  {
   "cell_type": "code",
   "execution_count": null,
   "metadata": {},
   "outputs": [],
   "source": []
  }
 ],
 "metadata": {
  "kernelspec": {
   "display_name": "python-env",
   "language": "python",
   "name": "python3"
  },
  "language_info": {
   "codemirror_mode": {
    "name": "ipython",
    "version": 3
   },
   "file_extension": ".py",
   "mimetype": "text/x-python",
   "name": "python",
   "nbconvert_exporter": "python",
   "pygments_lexer": "ipython3",
   "version": "3.13.0"
  }
 },
 "nbformat": 4,
 "nbformat_minor": 2
}
